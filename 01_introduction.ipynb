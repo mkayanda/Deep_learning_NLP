{
 "cells": [
  {
   "cell_type": "markdown",
   "id": "6d70630c",
   "metadata": {},
   "source": [
    "   **Natural Language Processing (NLP)** is the application of computational methods to model and extract information from human language. \n",
    "   \n",
    "  **Computational Linguistics** focuses on applying quantitative and statistical methods to understand how humans model language aas well as computational approaches to answer questions. Computational linguistics can refer to written or spoken natural language. Natural language processing of written language is often called **text analytics** and of spoken language is called **speach anlytics**.\n",
    "  \n",
    "  \n",
    "When we analyze a language, we often  group language characteristics into a set of categories. For text analysis, we use the follwoing categories:- \n",
    "\n",
    "          1. Morphology - refers to the shape and internal structure of a word.\n",
    "          2. Snytax - refers to the riles and principles applied to a phrase, sentence or word.\n",
    "          3. Lexical - refers to the segmentation of text into meaningful units like words.\n",
    "          4. Discourse - refers to conversations and relationsips that exist among sentences.\n",
    "          5. Semantics - refers to the context that provices meaning within a sentence.\n",
    "          6. Pragmatics - refers to external characteristics such as the intent of the speaker to convey concept.\n",
    "          \n",
    "For speech analysis, we use the following categories:-\n",
    "          \n",
    "          1. Acoustics - refers to the methods we use to represent sounds\n",
    "          2. Phonetics - refers to how sounds are mapped to the phonemes that serve as base units of speech.\n",
    "          3. Phonemics - refers to how phonemes are used in a language.\n",
    "          4. Prosodics - refers to non-language characteristics that accompany speech such as pitch, tone, intonation & stress\n",
    "      \n",
    "\n"
   ]
  },
  {
   "cell_type": "markdown",
   "id": "6cefa598",
   "metadata": {},
   "source": [
    "## Morphological Analysis"
   ]
  },
  {
   "cell_type": "code",
   "execution_count": null,
   "id": "4274ef3c",
   "metadata": {},
   "outputs": [],
   "source": []
  }
 ],
 "metadata": {
  "kernelspec": {
   "display_name": "Python 3.7 (tensorflow)",
   "language": "python",
   "name": "tensorflow"
  },
  "language_info": {
   "codemirror_mode": {
    "name": "ipython",
    "version": 3
   },
   "file_extension": ".py",
   "mimetype": "text/x-python",
   "name": "python",
   "nbconvert_exporter": "python",
   "pygments_lexer": "ipython3",
   "version": "3.7.11"
  }
 },
 "nbformat": 4,
 "nbformat_minor": 5
}
