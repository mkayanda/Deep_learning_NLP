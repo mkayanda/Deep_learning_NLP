{
 "cells": [
  {
   "cell_type": "code",
   "execution_count": null,
   "metadata": {},
   "outputs": [],
   "source": []
  },
  {
   "cell_type": "markdown",
   "metadata": {},
   "source": [
    "### Padding the Sequences\n",
    "how to make them equal length"
   ]
  },
  {
   "cell_type": "code",
   "execution_count": 3,
   "metadata": {},
   "outputs": [],
   "source": [
    "## import the tensorflow library\n",
    "import tensorflow as tf\n",
    "from tensorflow import keras\n",
    "from tensorflow.keras.preprocessing.text import Tokenizer\n",
    "from tensorflow.keras.preprocessing.sequence import pad_sequences"
   ]
  },
  {
   "cell_type": "markdown",
   "metadata": {},
   "source": [
    "### Define training sentences"
   ]
  },
  {
   "cell_type": "code",
   "execution_count": 4,
   "metadata": {},
   "outputs": [],
   "source": [
    "## sentences to tokenize\n",
    "\n",
    "train_sentences = [\n",
    "    'It will rain today in Seattle',\n",
    "    'The weather is cloudy',\n",
    "    'Will it be raining today',\n",
    "    'It is a super hot day!'\n",
    "]   "
   ]
  },
  {
   "cell_type": "markdown",
   "metadata": {},
   "source": [
    "### Train the tokenizer"
   ]
  },
  {
   "cell_type": "code",
   "execution_count": 5,
   "metadata": {},
   "outputs": [],
   "source": [
    "## instantiate a tokenizer\n",
    "tokenizer = Tokenizer(num_words=100, oov_token='<OOV>')\n",
    "\n",
    "## train the tokenizer on the sentences\n",
    "tokenizer.fit_on_texts(train_sentences)\n",
    "\n",
    "## store word index for the words in the sentence\n",
    "word_index = tokenizer.word_index"
   ]
  },
  {
   "cell_type": "markdown",
   "metadata": {},
   "source": [
    "#### Create Sequences"
   ]
  },
  {
   "cell_type": "code",
   "execution_count": 6,
   "metadata": {},
   "outputs": [],
   "source": [
    "# create sequences using tokenizer\n",
    "sequences = tokenizer.texts_to_sequences(train_sentences)"
   ]
  },
  {
   "cell_type": "markdown",
   "metadata": {},
   "source": [
    "### Pad Sequences"
   ]
  },
  {
   "cell_type": "code",
   "execution_count": 7,
   "metadata": {},
   "outputs": [],
   "source": [
    "padded_seqs = pad_sequences(sequences)"
   ]
  },
  {
   "cell_type": "code",
   "execution_count": 8,
   "metadata": {},
   "outputs": [
    {
     "name": "stdout",
     "output_type": "stream",
     "text": [
      "{'<OOV>': 1, 'it': 2, 'will': 3, 'today': 4, 'is': 5, 'rain': 6, 'in': 7, 'seattle': 8, 'the': 9, 'weather': 10, 'cloudy': 11, 'be': 12, 'raining': 13, 'a': 14, 'super': 15, 'hot': 16, 'day': 17}\n",
      "['It will rain today in Seattle', 'The weather is cloudy', 'Will it be raining today', 'It is a super hot day!']\n",
      "[[2, 3, 6, 4, 7, 8], [9, 10, 5, 11], [3, 2, 12, 13, 4], [2, 5, 14, 15, 16, 17]]\n",
      "[[ 2  3  6  4  7  8]\n",
      " [ 0  0  9 10  5 11]\n",
      " [ 0  3  2 12 13  4]\n",
      " [ 2  5 14 15 16 17]]\n"
     ]
    }
   ],
   "source": [
    "#print word index dictionary and sequences\n",
    "print(word_index)\n",
    "print(train_sentences)\n",
    "print(sequences)\n",
    "print(padded_seqs)\n"
   ]
  },
  {
   "cell_type": "markdown",
   "metadata": {},
   "source": [
    "### Customizing your padded sequence with parameters"
   ]
  },
  {
   "cell_type": "code",
   "execution_count": 10,
   "metadata": {},
   "outputs": [],
   "source": [
    "# pad sequences to the same length\n",
    "padded_seqs = pad_sequences(sequences, \n",
    "                            padding='post',    \n",
    "                            maxlen=5,\n",
    "                            truncating='post')"
   ]
  },
  {
   "cell_type": "code",
   "execution_count": 11,
   "metadata": {},
   "outputs": [
    {
     "name": "stdout",
     "output_type": "stream",
     "text": [
      "[[ 2  3  6  4  7]\n",
      " [ 9 10  5 11  0]\n",
      " [ 3  2 12 13  4]\n",
      " [ 2  5 14 15 16]]\n"
     ]
    }
   ],
   "source": [
    "print(padded_seqs)"
   ]
  },
  {
   "cell_type": "code",
   "execution_count": null,
   "metadata": {},
   "outputs": [],
   "source": []
  }
 ],
 "metadata": {
  "interpreter": {
   "hash": "b4dddb473804f224b60a875dd6ce64f9fe455b7a6d28927d59badb8ca51967dc"
  },
  "kernelspec": {
   "display_name": "Python 3.7.11 64-bit ('tensorflow': conda)",
   "language": "python",
   "name": "python3"
  },
  "language_info": {
   "codemirror_mode": {
    "name": "ipython",
    "version": 3
   },
   "file_extension": ".py",
   "mimetype": "text/x-python",
   "name": "python",
   "nbconvert_exporter": "python",
   "pygments_lexer": "ipython3",
   "version": "3.7.11"
  },
  "orig_nbformat": 4
 },
 "nbformat": 4,
 "nbformat_minor": 2
}
